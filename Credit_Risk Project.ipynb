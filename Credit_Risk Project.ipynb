{
 "cells": [
  {
   "cell_type": "markdown",
   "metadata": {},
   "source": [
    "# Imarticus Capstone Project By Saurabh Gupta\n"
   ]
  },
  {
   "cell_type": "markdown",
   "metadata": {},
   "source": [
    "# Importing Data and Libraries"
   ]
  },
  {
   "cell_type": "code",
   "execution_count": 1,
   "metadata": {},
   "outputs": [],
   "source": [
    "#Importing Data and Libraries\n",
    "import pandas as pd\n",
    "import numpy as np\n",
    "lc=pd.read_csv(\"S:\\XYZCorp_LendingData(1).txt\",sep = '\\t',na_values = 'NaN',low_memory = False)\n"
   ]
  },
  {
   "cell_type": "code",
   "execution_count": 5,
   "metadata": {},
   "outputs": [
    {
     "name": "stdout",
     "output_type": "stream",
     "text": [
      "        id  member_id  loan_amnt  funded_amnt  funded_amnt_inv        term  \\\n",
      "0  1077501    1296599     5000.0       5000.0           4975.0   36 months   \n",
      "1  1077430    1314167     2500.0       2500.0           2500.0   60 months   \n",
      "2  1077175    1313524     2400.0       2400.0           2400.0   36 months   \n",
      "3  1076863    1277178    10000.0      10000.0          10000.0   36 months   \n",
      "\n",
      "   int_rate  installment grade sub_grade  ... il_util open_rv_12m open_rv_24m  \\\n",
      "0     10.65       162.87     B        B2  ...     NaN         NaN         NaN   \n",
      "1     15.27        59.83     C        C4  ...     NaN         NaN         NaN   \n",
      "2     15.96        84.33     C        C5  ...     NaN         NaN         NaN   \n",
      "3     13.49       339.31     C        C1  ...     NaN         NaN         NaN   \n",
      "\n",
      "   max_bal_bc all_util total_rev_hi_lim inq_fi total_cu_tl inq_last_12m  \\\n",
      "0         NaN      NaN              NaN    NaN         NaN          NaN   \n",
      "1         NaN      NaN              NaN    NaN         NaN          NaN   \n",
      "2         NaN      NaN              NaN    NaN         NaN          NaN   \n",
      "3         NaN      NaN              NaN    NaN         NaN          NaN   \n",
      "\n",
      "  default_ind  \n",
      "0           0  \n",
      "1           1  \n",
      "2           0  \n",
      "3           0  \n",
      "\n",
      "[4 rows x 73 columns]\n",
      "(855969, 73)\n"
     ]
    }
   ],
   "source": [
    "print(lc.head(4))\n",
    "print(lc.shape)\n",
    "y=lc['default_ind']"
   ]
  },
  {
   "cell_type": "markdown",
   "metadata": {},
   "source": [
    "# Splitting Data into train and test"
   ]
  },
  {
   "cell_type": "code",
   "execution_count": 6,
   "metadata": {},
   "outputs": [
    {
     "name": "stdout",
     "output_type": "stream",
     "text": [
      "(599178, 73) (599178,)\n",
      "(256791, 73) (256791,)\n"
     ]
    }
   ],
   "source": [
    "import pandas as pd\n",
    "from sklearn.model_selection import train_test_split\n",
    "X_train, X_test, y_train, y_test = train_test_split(lc, y, test_size=0.30)\n",
    "print( X_train.shape, y_train.shape)\n",
    "print( X_test.shape, y_test.shape)"
   ]
  },
  {
   "cell_type": "markdown",
   "metadata": {},
   "source": [
    "# Exploratory Data Analysis"
   ]
  },
  {
   "cell_type": "code",
   "execution_count": 7,
   "metadata": {},
   "outputs": [],
   "source": [
    "#Removing Columns\n",
    "Range_columns = [i for i in range(59,70)]\n",
    "Train_data_1 = X_train.drop(X_train.columns[Range_columns],axis = 1)\n",
    "Test_data_1 = X_test.drop(X_test.columns[Range_columns],axis =1)"
   ]
  },
  {
   "cell_type": "code",
   "execution_count": 8,
   "metadata": {},
   "outputs": [
    {
     "name": "stdout",
     "output_type": "stream",
     "text": [
      "the shape of train data is : (599178, 62)\n",
      "the shape of train data is : (256791, 62)\n"
     ]
    }
   ],
   "source": [
    "print(\"the shape of train data is :\" ,Train_data_1.shape)\n",
    "print(\"the shape of train data is :\" ,Test_data_1.shape)"
   ]
  },
  {
   "cell_type": "code",
   "execution_count": 10,
   "metadata": {},
   "outputs": [],
   "source": [
    "del_columns = ['total_cu_tl','inq_last_12m','annual_inc_joint','dti_joint',\n",
    "               'verification_status_joint']\n",
    "Train_data_1 = Train_data_1.drop(labels = del_columns,axis = 1)\n",
    "Test_data_1 = Test_data_1.drop(labels = del_columns,axis = 1)"
   ]
  },
  {
   "cell_type": "code",
   "execution_count": 11,
   "metadata": {},
   "outputs": [],
   "source": [
    "drop_more_col = ['open_il_6m']\n",
    "Train_data_2 = Train_data_1.drop(labels = drop_more_col,axis = 1)\n",
    "Test_data_2 = Test_data_1.drop(labels = drop_more_col,axis = 1)"
   ]
  },
  {
   "cell_type": "code",
   "execution_count": 12,
   "metadata": {},
   "outputs": [
    {
     "name": "stdout",
     "output_type": "stream",
     "text": [
      "the shape of train data; (599178, 56)\n",
      "the shape of test data; (256791, 56)\n"
     ]
    }
   ],
   "source": [
    "print(\"the shape of train data;\",Train_data_2.shape)\n",
    "print(\"the shape of test data;\",Test_data_2.shape)"
   ]
  },
  {
   "cell_type": "code",
   "execution_count": 13,
   "metadata": {},
   "outputs": [],
   "source": [
    "mean_train = Train_data_2[['mths_since_last_delinq','mths_since_last_record','revol_util'\n",
    "                     ,'collections_12_mths_ex_med','mths_since_last_major_derog','tot_coll_amt','tot_cur_bal']].mean()\n",
    "mean_test = Test_data_2[['mths_since_last_delinq','mths_since_last_record','revol_util'\n",
    "                     ,'collections_12_mths_ex_med','mths_since_last_major_derog','tot_coll_amt','tot_cur_bal']].mean()"
   ]
  },
  {
   "cell_type": "code",
   "execution_count": 14,
   "metadata": {},
   "outputs": [],
   "source": [
    "Train_data_2[['mths_since_last_delinq','mths_since_last_record','revol_util','collections_12_mths_ex_med',\n",
    "             'mths_since_last_major_derog','tot_coll_amt','tot_cur_bal']] = Train_data_2[['mths_since_last_delinq','mths_since_last_record','revol_util','collections_12_mths_ex_med',\n",
    "             'mths_since_last_major_derog','tot_coll_amt','tot_cur_bal']].fillna(mean_train)\n",
    "Test_data_2[['mths_since_last_delinq','mths_since_last_record','revol_util','collections_12_mths_ex_med',\n",
    "             'mths_since_last_major_derog','tot_coll_amt','tot_cur_bal']] = Test_data_2[['mths_since_last_delinq','mths_since_last_record','revol_util','collections_12_mths_ex_med',\n",
    "             'mths_since_last_major_derog','tot_coll_amt','tot_cur_bal']].fillna(mean_test)"
   ]
  },
  {
   "cell_type": "code",
   "execution_count": 15,
   "metadata": {},
   "outputs": [
    {
     "data": {
      "text/plain": [
       "array([' 36 months', ' 60 months', 'B', 'C', 'D', 'A', 'E', 'G', 'F',\n",
       "       'RENT', 'MORTGAGE', 'OWN', 'OTHER', 'ANY', 'NONE'], dtype=object)"
      ]
     },
     "execution_count": 15,
     "metadata": {},
     "output_type": "execute_result"
    }
   ],
   "source": [
    "pd.unique(Train_data_2[['term','grade','home_ownership']].values.ravel('K'))\n",
    "pd.unique(Test_data_2[['term','grade','home_ownership']].values.ravel('K'))"
   ]
  },
  {
   "cell_type": "code",
   "execution_count": 16,
   "metadata": {},
   "outputs": [],
   "source": [
    "Train_data_2['grade'] = Train_data_2['grade'].map({'A':7,'B':6,'C':5,'D':4,'E':3,'F':2,'G':1})\n",
    "Train_data_2['home_ownership'] = Train_data_2['home_ownership'].map({'MORTGAGE':6,'RENT':5,'OWN':4,'OTHER':3\n",
    "                                                                 ,'NONE':2,'ANY':1})\n",
    "\n",
    "Train_data_2[\"emp_length\"] = Train_data_2[\"emp_length\"].replace({'years':'','year':'',' ':'','<':'','\\+':'','n/a':'0','s':''},\n",
    "                                                            regex = True)\n",
    "\n",
    "##test\n",
    "Test_data_2['grade'] = Test_data_2['grade'].map({'A':7,'B':6,'C':5,'D':4,'E':3,'F':2,'G':1})\n",
    "Test_data_2['home_ownership'] = Test_data_2['home_ownership'].map({'MORTGAGE':6,'RENT':5,'OWN':4,'OTHER':3\n",
    "                                                                 ,'NONE':2,'ANY':1})\n",
    "\n",
    "Test_data_2[\"emp_length\"] = Test_data_2[\"emp_length\"].replace({'years':'','year':'',' ':'','<':'','\\+':'','n/a':'0','s':''},\n",
    "                                                            regex = True)"
   ]
  },
  {
   "cell_type": "code",
   "execution_count": 17,
   "metadata": {},
   "outputs": [],
   "source": [
    "Train_data_2['term'] = Train_data_2['term'].replace({'months':'',' ':''},regex = True)\n",
    "Test_data_2['term'] = Test_data_2['term'].replace({'months':'',' ':''},regex = True)"
   ]
  },
  {
   "cell_type": "code",
   "execution_count": 18,
   "metadata": {},
   "outputs": [
    {
     "name": "stdout",
     "output_type": "stream",
     "text": [
      "10     197360\n",
      "1       85714\n",
      "2       53220\n",
      "3       47411\n",
      "5       37702\n",
      "4       35428\n",
      "7       30280\n",
      "NaN     30075\n",
      "8       29658\n",
      "6       28981\n",
      "9       23349\n",
      "Name: emp_length, dtype: int64\n"
     ]
    }
   ],
   "source": [
    "print(Train_data_2['emp_length'].value_counts(dropna = False))"
   ]
  },
  {
   "cell_type": "code",
   "execution_count": 19,
   "metadata": {},
   "outputs": [],
   "source": [
    "Train_data_2['emp_length']= pd.to_numeric(Train_data_2['emp_length'],errors = 'coerce')\n",
    "Test_data_2['emp_length']= pd.to_numeric(Test_data_2['emp_length'],errors = 'coerce')\n",
    "mean = Train_data_2['emp_length'].mean()\n",
    "mean_test = Test_data_2['emp_length'].mean()\n",
    "Train_data_2['emp_length'] = Train_data_2['emp_length'].fillna(mean)\n",
    "Test_data_2['emp_length'] = Test_data_2['emp_length'].fillna(mean_test)\n",
    "Train_data_2['term']= pd.to_numeric(Train_data_2['term'],errors = 'coerce')\n",
    "Test_data_2['term']= pd.to_numeric(Test_data_2['term'],errors = 'coerce')"
   ]
  },
  {
   "cell_type": "markdown",
   "metadata": {},
   "source": [
    "# Feature Selection"
   ]
  },
  {
   "cell_type": "code",
   "execution_count": 21,
   "metadata": {},
   "outputs": [],
   "source": [
    "#feature Selection\n",
    "features = ['loan_amnt','funded_amnt','funded_amnt_inv','term','int_rate','installment','grade','emp_length','home_ownership',\n",
    "'annual_inc','dti','delinq_2yrs','inq_last_6mths','mths_since_last_delinq','mths_since_last_record','open_acc','pub_rec',\n",
    "'revol_bal','revol_util','total_acc','out_prncp','out_prncp_inv','total_pymnt','total_pymnt_inv','total_rec_prncp',\n",
    "'total_rec_int','total_rec_late_fee','recoveries','collection_recovery_fee','last_pymnt_amnt','collections_12_mths_ex_med',\n",
    "'mths_since_last_major_derog','policy_code','acc_now_delinq','tot_coll_amt','tot_cur_bal']\n",
    "train = Train_data_2[features]\n",
    "test = Test_data_2[features]"
   ]
  },
  {
   "cell_type": "code",
   "execution_count": 22,
   "metadata": {},
   "outputs": [
    {
     "data": {
      "text/html": [
       "<div>\n",
       "<style scoped>\n",
       "    .dataframe tbody tr th:only-of-type {\n",
       "        vertical-align: middle;\n",
       "    }\n",
       "\n",
       "    .dataframe tbody tr th {\n",
       "        vertical-align: top;\n",
       "    }\n",
       "\n",
       "    .dataframe thead th {\n",
       "        text-align: right;\n",
       "    }\n",
       "</style>\n",
       "<table border=\"1\" class=\"dataframe\">\n",
       "  <thead>\n",
       "    <tr style=\"text-align: right;\">\n",
       "      <th></th>\n",
       "      <th>loan_amnt</th>\n",
       "      <th>funded_amnt</th>\n",
       "      <th>funded_amnt_inv</th>\n",
       "      <th>term</th>\n",
       "      <th>int_rate</th>\n",
       "      <th>installment</th>\n",
       "      <th>grade</th>\n",
       "      <th>emp_length</th>\n",
       "      <th>home_ownership</th>\n",
       "      <th>annual_inc</th>\n",
       "      <th>...</th>\n",
       "      <th>total_rec_late_fee</th>\n",
       "      <th>recoveries</th>\n",
       "      <th>collection_recovery_fee</th>\n",
       "      <th>last_pymnt_amnt</th>\n",
       "      <th>collections_12_mths_ex_med</th>\n",
       "      <th>mths_since_last_major_derog</th>\n",
       "      <th>policy_code</th>\n",
       "      <th>acc_now_delinq</th>\n",
       "      <th>tot_coll_amt</th>\n",
       "      <th>tot_cur_bal</th>\n",
       "    </tr>\n",
       "  </thead>\n",
       "  <tbody>\n",
       "    <tr>\n",
       "      <th>187717</th>\n",
       "      <td>7500.0</td>\n",
       "      <td>7500.0</td>\n",
       "      <td>7500.0</td>\n",
       "      <td>36</td>\n",
       "      <td>11.14</td>\n",
       "      <td>246.04</td>\n",
       "      <td>6</td>\n",
       "      <td>7.0</td>\n",
       "      <td>5</td>\n",
       "      <td>60000.0</td>\n",
       "      <td>...</td>\n",
       "      <td>0.0</td>\n",
       "      <td>0.0</td>\n",
       "      <td>0.0</td>\n",
       "      <td>2807.89</td>\n",
       "      <td>0.0</td>\n",
       "      <td>44.083487</td>\n",
       "      <td>1.0</td>\n",
       "      <td>0.0</td>\n",
       "      <td>0.0</td>\n",
       "      <td>33912.0</td>\n",
       "    </tr>\n",
       "    <tr>\n",
       "      <th>495273</th>\n",
       "      <td>13700.0</td>\n",
       "      <td>13700.0</td>\n",
       "      <td>13700.0</td>\n",
       "      <td>60</td>\n",
       "      <td>12.59</td>\n",
       "      <td>308.85</td>\n",
       "      <td>5</td>\n",
       "      <td>1.0</td>\n",
       "      <td>5</td>\n",
       "      <td>45000.0</td>\n",
       "      <td>...</td>\n",
       "      <td>0.0</td>\n",
       "      <td>0.0</td>\n",
       "      <td>0.0</td>\n",
       "      <td>332.80</td>\n",
       "      <td>0.0</td>\n",
       "      <td>44.083487</td>\n",
       "      <td>1.0</td>\n",
       "      <td>0.0</td>\n",
       "      <td>0.0</td>\n",
       "      <td>40499.0</td>\n",
       "    </tr>\n",
       "    <tr>\n",
       "      <th>517597</th>\n",
       "      <td>12000.0</td>\n",
       "      <td>12000.0</td>\n",
       "      <td>12000.0</td>\n",
       "      <td>36</td>\n",
       "      <td>10.99</td>\n",
       "      <td>392.81</td>\n",
       "      <td>6</td>\n",
       "      <td>5.0</td>\n",
       "      <td>6</td>\n",
       "      <td>38000.0</td>\n",
       "      <td>...</td>\n",
       "      <td>0.0</td>\n",
       "      <td>0.0</td>\n",
       "      <td>0.0</td>\n",
       "      <td>392.81</td>\n",
       "      <td>0.0</td>\n",
       "      <td>60.000000</td>\n",
       "      <td>1.0</td>\n",
       "      <td>0.0</td>\n",
       "      <td>4034.0</td>\n",
       "      <td>121095.0</td>\n",
       "    </tr>\n",
       "    <tr>\n",
       "      <th>418953</th>\n",
       "      <td>16800.0</td>\n",
       "      <td>16800.0</td>\n",
       "      <td>16800.0</td>\n",
       "      <td>36</td>\n",
       "      <td>11.99</td>\n",
       "      <td>557.93</td>\n",
       "      <td>6</td>\n",
       "      <td>2.0</td>\n",
       "      <td>6</td>\n",
       "      <td>63000.0</td>\n",
       "      <td>...</td>\n",
       "      <td>0.0</td>\n",
       "      <td>0.0</td>\n",
       "      <td>0.0</td>\n",
       "      <td>557.93</td>\n",
       "      <td>0.0</td>\n",
       "      <td>44.083487</td>\n",
       "      <td>1.0</td>\n",
       "      <td>0.0</td>\n",
       "      <td>0.0</td>\n",
       "      <td>216157.0</td>\n",
       "    </tr>\n",
       "    <tr>\n",
       "      <th>346762</th>\n",
       "      <td>21750.0</td>\n",
       "      <td>21750.0</td>\n",
       "      <td>21750.0</td>\n",
       "      <td>36</td>\n",
       "      <td>16.29</td>\n",
       "      <td>767.79</td>\n",
       "      <td>4</td>\n",
       "      <td>10.0</td>\n",
       "      <td>6</td>\n",
       "      <td>128200.0</td>\n",
       "      <td>...</td>\n",
       "      <td>0.0</td>\n",
       "      <td>0.0</td>\n",
       "      <td>0.0</td>\n",
       "      <td>20090.10</td>\n",
       "      <td>0.0</td>\n",
       "      <td>58.000000</td>\n",
       "      <td>1.0</td>\n",
       "      <td>0.0</td>\n",
       "      <td>0.0</td>\n",
       "      <td>81877.0</td>\n",
       "    </tr>\n",
       "  </tbody>\n",
       "</table>\n",
       "<p>5 rows × 36 columns</p>\n",
       "</div>"
      ],
      "text/plain": [
       "        loan_amnt  funded_amnt  funded_amnt_inv  term  int_rate  installment  \\\n",
       "187717     7500.0       7500.0           7500.0    36     11.14       246.04   \n",
       "495273    13700.0      13700.0          13700.0    60     12.59       308.85   \n",
       "517597    12000.0      12000.0          12000.0    36     10.99       392.81   \n",
       "418953    16800.0      16800.0          16800.0    36     11.99       557.93   \n",
       "346762    21750.0      21750.0          21750.0    36     16.29       767.79   \n",
       "\n",
       "        grade  emp_length  home_ownership  annual_inc  ...  \\\n",
       "187717      6         7.0               5     60000.0  ...   \n",
       "495273      5         1.0               5     45000.0  ...   \n",
       "517597      6         5.0               6     38000.0  ...   \n",
       "418953      6         2.0               6     63000.0  ...   \n",
       "346762      4        10.0               6    128200.0  ...   \n",
       "\n",
       "        total_rec_late_fee  recoveries  collection_recovery_fee  \\\n",
       "187717                 0.0         0.0                      0.0   \n",
       "495273                 0.0         0.0                      0.0   \n",
       "517597                 0.0         0.0                      0.0   \n",
       "418953                 0.0         0.0                      0.0   \n",
       "346762                 0.0         0.0                      0.0   \n",
       "\n",
       "        last_pymnt_amnt  collections_12_mths_ex_med  \\\n",
       "187717          2807.89                         0.0   \n",
       "495273           332.80                         0.0   \n",
       "517597           392.81                         0.0   \n",
       "418953           557.93                         0.0   \n",
       "346762         20090.10                         0.0   \n",
       "\n",
       "        mths_since_last_major_derog  policy_code  acc_now_delinq  \\\n",
       "187717                    44.083487          1.0             0.0   \n",
       "495273                    44.083487          1.0             0.0   \n",
       "517597                    60.000000          1.0             0.0   \n",
       "418953                    44.083487          1.0             0.0   \n",
       "346762                    58.000000          1.0             0.0   \n",
       "\n",
       "        tot_coll_amt  tot_cur_bal  \n",
       "187717           0.0      33912.0  \n",
       "495273           0.0      40499.0  \n",
       "517597        4034.0     121095.0  \n",
       "418953           0.0     216157.0  \n",
       "346762           0.0      81877.0  \n",
       "\n",
       "[5 rows x 36 columns]"
      ]
     },
     "execution_count": 22,
     "metadata": {},
     "output_type": "execute_result"
    }
   ],
   "source": [
    "test.head()"
   ]
  },
  {
   "cell_type": "markdown",
   "metadata": {},
   "source": [
    "# Random Forest Classification"
   ]
  },
  {
   "cell_type": "code",
   "execution_count": 57,
   "metadata": {},
   "outputs": [],
   "source": [
    "from sklearn.feature_selection import SelectFromModel\n",
    "from sklearn.ensemble import RandomForestClassifier\n",
    "select = SelectFromModel(RandomForestClassifier(n_estimators=100, random_state=42), threshold='median')"
   ]
  },
  {
   "cell_type": "code",
   "execution_count": 58,
   "metadata": {},
   "outputs": [
    {
     "data": {
      "text/plain": [
       "SelectFromModel(estimator=RandomForestClassifier(bootstrap=True, class_weight=None, criterion='gini',\n",
       "            max_depth=None, max_features='auto', max_leaf_nodes=None,\n",
       "            min_impurity_decrease=0.0, min_impurity_split=None,\n",
       "            min_samples_leaf=1, min_samples_split=2,\n",
       "            min_weight_fraction_leaf=0.0, n_estimators=100, n_jobs=None,\n",
       "            oob_score=False, random_state=42, verbose=0, warm_start=False),\n",
       "        max_features=None, norm_order=1, prefit=False, threshold='median')"
      ]
     },
     "execution_count": 58,
     "metadata": {},
     "output_type": "execute_result"
    }
   ],
   "source": [
    "select.fit(train,y_train)"
   ]
  },
  {
   "cell_type": "code",
   "execution_count": 59,
   "metadata": {},
   "outputs": [],
   "source": [
    "X_train_s = select.transform(train)"
   ]
  },
  {
   "cell_type": "code",
   "execution_count": 60,
   "metadata": {},
   "outputs": [
    {
     "name": "stdout",
     "output_type": "stream",
     "text": [
      "The shape of train is:  (599178, 36)\n",
      "The shape of X_train_s is  (599178, 18)\n"
     ]
    }
   ],
   "source": [
    "print('The shape of train is: ', train.shape)\n",
    "print('The shape of X_train_s is ', X_train_s.shape)"
   ]
  },
  {
   "cell_type": "code",
   "execution_count": 61,
   "metadata": {},
   "outputs": [],
   "source": [
    "X_train_s =pd.DataFrame(X_train_s)"
   ]
  },
  {
   "cell_type": "code",
   "execution_count": 62,
   "metadata": {},
   "outputs": [
    {
     "data": {
      "text/html": [
       "<div>\n",
       "<style scoped>\n",
       "    .dataframe tbody tr th:only-of-type {\n",
       "        vertical-align: middle;\n",
       "    }\n",
       "\n",
       "    .dataframe tbody tr th {\n",
       "        vertical-align: top;\n",
       "    }\n",
       "\n",
       "    .dataframe thead th {\n",
       "        text-align: right;\n",
       "    }\n",
       "</style>\n",
       "<table border=\"1\" class=\"dataframe\">\n",
       "  <thead>\n",
       "    <tr style=\"text-align: right;\">\n",
       "      <th></th>\n",
       "      <th>0</th>\n",
       "      <th>1</th>\n",
       "      <th>2</th>\n",
       "      <th>3</th>\n",
       "      <th>4</th>\n",
       "      <th>5</th>\n",
       "      <th>6</th>\n",
       "      <th>7</th>\n",
       "      <th>8</th>\n",
       "      <th>9</th>\n",
       "      <th>10</th>\n",
       "      <th>11</th>\n",
       "      <th>12</th>\n",
       "      <th>13</th>\n",
       "      <th>14</th>\n",
       "      <th>15</th>\n",
       "      <th>16</th>\n",
       "      <th>17</th>\n",
       "    </tr>\n",
       "  </thead>\n",
       "  <tbody>\n",
       "    <tr>\n",
       "      <th>0</th>\n",
       "      <td>8000.0</td>\n",
       "      <td>8000.0</td>\n",
       "      <td>8000.0</td>\n",
       "      <td>36.0</td>\n",
       "      <td>10.49</td>\n",
       "      <td>259.99</td>\n",
       "      <td>5182.60</td>\n",
       "      <td>5182.60</td>\n",
       "      <td>3635.20</td>\n",
       "      <td>3635.20</td>\n",
       "      <td>2817.40</td>\n",
       "      <td>817.80</td>\n",
       "      <td>0.0</td>\n",
       "      <td>0.0</td>\n",
       "      <td>0.0</td>\n",
       "      <td>259.99</td>\n",
       "      <td>0.0</td>\n",
       "      <td>7267.0</td>\n",
       "    </tr>\n",
       "    <tr>\n",
       "      <th>1</th>\n",
       "      <td>21000.0</td>\n",
       "      <td>21000.0</td>\n",
       "      <td>21000.0</td>\n",
       "      <td>60.0</td>\n",
       "      <td>20.99</td>\n",
       "      <td>568.01</td>\n",
       "      <td>20175.95</td>\n",
       "      <td>20175.95</td>\n",
       "      <td>2247.55</td>\n",
       "      <td>2247.55</td>\n",
       "      <td>824.05</td>\n",
       "      <td>1423.50</td>\n",
       "      <td>0.0</td>\n",
       "      <td>0.0</td>\n",
       "      <td>0.0</td>\n",
       "      <td>568.01</td>\n",
       "      <td>0.0</td>\n",
       "      <td>313643.0</td>\n",
       "    </tr>\n",
       "    <tr>\n",
       "      <th>2</th>\n",
       "      <td>13800.0</td>\n",
       "      <td>13800.0</td>\n",
       "      <td>13800.0</td>\n",
       "      <td>36.0</td>\n",
       "      <td>8.90</td>\n",
       "      <td>438.20</td>\n",
       "      <td>4612.20</td>\n",
       "      <td>4612.20</td>\n",
       "      <td>10955.00</td>\n",
       "      <td>10955.00</td>\n",
       "      <td>9187.80</td>\n",
       "      <td>1767.20</td>\n",
       "      <td>0.0</td>\n",
       "      <td>0.0</td>\n",
       "      <td>0.0</td>\n",
       "      <td>438.20</td>\n",
       "      <td>0.0</td>\n",
       "      <td>444712.0</td>\n",
       "    </tr>\n",
       "    <tr>\n",
       "      <th>3</th>\n",
       "      <td>10000.0</td>\n",
       "      <td>10000.0</td>\n",
       "      <td>10000.0</td>\n",
       "      <td>36.0</td>\n",
       "      <td>10.99</td>\n",
       "      <td>327.34</td>\n",
       "      <td>9764.24</td>\n",
       "      <td>9764.24</td>\n",
       "      <td>315.13</td>\n",
       "      <td>315.13</td>\n",
       "      <td>235.76</td>\n",
       "      <td>79.37</td>\n",
       "      <td>0.0</td>\n",
       "      <td>0.0</td>\n",
       "      <td>0.0</td>\n",
       "      <td>327.34</td>\n",
       "      <td>112.0</td>\n",
       "      <td>27287.0</td>\n",
       "    </tr>\n",
       "    <tr>\n",
       "      <th>4</th>\n",
       "      <td>10000.0</td>\n",
       "      <td>10000.0</td>\n",
       "      <td>10000.0</td>\n",
       "      <td>60.0</td>\n",
       "      <td>12.29</td>\n",
       "      <td>223.92</td>\n",
       "      <td>9122.89</td>\n",
       "      <td>9122.89</td>\n",
       "      <td>1560.61</td>\n",
       "      <td>1560.61</td>\n",
       "      <td>877.11</td>\n",
       "      <td>683.50</td>\n",
       "      <td>0.0</td>\n",
       "      <td>0.0</td>\n",
       "      <td>0.0</td>\n",
       "      <td>223.92</td>\n",
       "      <td>0.0</td>\n",
       "      <td>101756.0</td>\n",
       "    </tr>\n",
       "  </tbody>\n",
       "</table>\n",
       "</div>"
      ],
      "text/plain": [
       "        0        1        2     3      4       5         6         7   \\\n",
       "0   8000.0   8000.0   8000.0  36.0  10.49  259.99   5182.60   5182.60   \n",
       "1  21000.0  21000.0  21000.0  60.0  20.99  568.01  20175.95  20175.95   \n",
       "2  13800.0  13800.0  13800.0  36.0   8.90  438.20   4612.20   4612.20   \n",
       "3  10000.0  10000.0  10000.0  36.0  10.99  327.34   9764.24   9764.24   \n",
       "4  10000.0  10000.0  10000.0  60.0  12.29  223.92   9122.89   9122.89   \n",
       "\n",
       "         8         9        10       11   12   13   14      15     16  \\\n",
       "0   3635.20   3635.20  2817.40   817.80  0.0  0.0  0.0  259.99    0.0   \n",
       "1   2247.55   2247.55   824.05  1423.50  0.0  0.0  0.0  568.01    0.0   \n",
       "2  10955.00  10955.00  9187.80  1767.20  0.0  0.0  0.0  438.20    0.0   \n",
       "3    315.13    315.13   235.76    79.37  0.0  0.0  0.0  327.34  112.0   \n",
       "4   1560.61   1560.61   877.11   683.50  0.0  0.0  0.0  223.92    0.0   \n",
       "\n",
       "         17  \n",
       "0    7267.0  \n",
       "1  313643.0  \n",
       "2  444712.0  \n",
       "3   27287.0  \n",
       "4  101756.0  "
      ]
     },
     "execution_count": 62,
     "metadata": {},
     "output_type": "execute_result"
    }
   ],
   "source": [
    "X_train_s.head()"
   ]
  },
  {
   "cell_type": "code",
   "execution_count": 63,
   "metadata": {},
   "outputs": [
    {
     "data": {
      "text/html": [
       "<div>\n",
       "<style scoped>\n",
       "    .dataframe tbody tr th:only-of-type {\n",
       "        vertical-align: middle;\n",
       "    }\n",
       "\n",
       "    .dataframe tbody tr th {\n",
       "        vertical-align: top;\n",
       "    }\n",
       "\n",
       "    .dataframe thead th {\n",
       "        text-align: right;\n",
       "    }\n",
       "</style>\n",
       "<table border=\"1\" class=\"dataframe\">\n",
       "  <thead>\n",
       "    <tr style=\"text-align: right;\">\n",
       "      <th></th>\n",
       "      <th>loan_amnt</th>\n",
       "      <th>funded_amnt</th>\n",
       "      <th>funded_amnt_inv</th>\n",
       "      <th>term</th>\n",
       "      <th>int_rate</th>\n",
       "      <th>installment</th>\n",
       "      <th>grade</th>\n",
       "      <th>emp_length</th>\n",
       "      <th>home_ownership</th>\n",
       "      <th>annual_inc</th>\n",
       "      <th>...</th>\n",
       "      <th>total_rec_late_fee</th>\n",
       "      <th>recoveries</th>\n",
       "      <th>collection_recovery_fee</th>\n",
       "      <th>last_pymnt_amnt</th>\n",
       "      <th>collections_12_mths_ex_med</th>\n",
       "      <th>mths_since_last_major_derog</th>\n",
       "      <th>policy_code</th>\n",
       "      <th>acc_now_delinq</th>\n",
       "      <th>tot_coll_amt</th>\n",
       "      <th>tot_cur_bal</th>\n",
       "    </tr>\n",
       "  </thead>\n",
       "  <tbody>\n",
       "    <tr>\n",
       "      <th>253650</th>\n",
       "      <td>8000.0</td>\n",
       "      <td>8000.0</td>\n",
       "      <td>8000.0</td>\n",
       "      <td>36</td>\n",
       "      <td>10.49</td>\n",
       "      <td>259.99</td>\n",
       "      <td>6</td>\n",
       "      <td>2.0</td>\n",
       "      <td>4</td>\n",
       "      <td>47900.0</td>\n",
       "      <td>...</td>\n",
       "      <td>0.0</td>\n",
       "      <td>0.0</td>\n",
       "      <td>0.0</td>\n",
       "      <td>259.99</td>\n",
       "      <td>0.0</td>\n",
       "      <td>13.000000</td>\n",
       "      <td>1.0</td>\n",
       "      <td>0.0</td>\n",
       "      <td>0.0</td>\n",
       "      <td>7267.0</td>\n",
       "    </tr>\n",
       "    <tr>\n",
       "      <th>584010</th>\n",
       "      <td>21000.0</td>\n",
       "      <td>21000.0</td>\n",
       "      <td>21000.0</td>\n",
       "      <td>60</td>\n",
       "      <td>20.99</td>\n",
       "      <td>568.01</td>\n",
       "      <td>3</td>\n",
       "      <td>5.0</td>\n",
       "      <td>6</td>\n",
       "      <td>85000.0</td>\n",
       "      <td>...</td>\n",
       "      <td>0.0</td>\n",
       "      <td>0.0</td>\n",
       "      <td>0.0</td>\n",
       "      <td>568.01</td>\n",
       "      <td>0.0</td>\n",
       "      <td>59.000000</td>\n",
       "      <td>1.0</td>\n",
       "      <td>0.0</td>\n",
       "      <td>0.0</td>\n",
       "      <td>313643.0</td>\n",
       "    </tr>\n",
       "    <tr>\n",
       "      <th>52427</th>\n",
       "      <td>13800.0</td>\n",
       "      <td>13800.0</td>\n",
       "      <td>13800.0</td>\n",
       "      <td>36</td>\n",
       "      <td>8.90</td>\n",
       "      <td>438.20</td>\n",
       "      <td>7</td>\n",
       "      <td>7.0</td>\n",
       "      <td>6</td>\n",
       "      <td>60000.0</td>\n",
       "      <td>...</td>\n",
       "      <td>0.0</td>\n",
       "      <td>0.0</td>\n",
       "      <td>0.0</td>\n",
       "      <td>438.20</td>\n",
       "      <td>0.0</td>\n",
       "      <td>39.000000</td>\n",
       "      <td>1.0</td>\n",
       "      <td>0.0</td>\n",
       "      <td>0.0</td>\n",
       "      <td>444712.0</td>\n",
       "    </tr>\n",
       "    <tr>\n",
       "      <th>494114</th>\n",
       "      <td>10000.0</td>\n",
       "      <td>10000.0</td>\n",
       "      <td>10000.0</td>\n",
       "      <td>36</td>\n",
       "      <td>10.99</td>\n",
       "      <td>327.34</td>\n",
       "      <td>6</td>\n",
       "      <td>1.0</td>\n",
       "      <td>5</td>\n",
       "      <td>48000.0</td>\n",
       "      <td>...</td>\n",
       "      <td>0.0</td>\n",
       "      <td>0.0</td>\n",
       "      <td>0.0</td>\n",
       "      <td>327.34</td>\n",
       "      <td>0.0</td>\n",
       "      <td>45.000000</td>\n",
       "      <td>1.0</td>\n",
       "      <td>0.0</td>\n",
       "      <td>112.0</td>\n",
       "      <td>27287.0</td>\n",
       "    </tr>\n",
       "    <tr>\n",
       "      <th>732309</th>\n",
       "      <td>10000.0</td>\n",
       "      <td>10000.0</td>\n",
       "      <td>10000.0</td>\n",
       "      <td>60</td>\n",
       "      <td>12.29</td>\n",
       "      <td>223.92</td>\n",
       "      <td>5</td>\n",
       "      <td>5.0</td>\n",
       "      <td>5</td>\n",
       "      <td>45000.0</td>\n",
       "      <td>...</td>\n",
       "      <td>0.0</td>\n",
       "      <td>0.0</td>\n",
       "      <td>0.0</td>\n",
       "      <td>223.92</td>\n",
       "      <td>0.0</td>\n",
       "      <td>44.109181</td>\n",
       "      <td>1.0</td>\n",
       "      <td>0.0</td>\n",
       "      <td>0.0</td>\n",
       "      <td>101756.0</td>\n",
       "    </tr>\n",
       "  </tbody>\n",
       "</table>\n",
       "<p>5 rows × 36 columns</p>\n",
       "</div>"
      ],
      "text/plain": [
       "        loan_amnt  funded_amnt  funded_amnt_inv  term  int_rate  installment  \\\n",
       "253650     8000.0       8000.0           8000.0    36     10.49       259.99   \n",
       "584010    21000.0      21000.0          21000.0    60     20.99       568.01   \n",
       "52427     13800.0      13800.0          13800.0    36      8.90       438.20   \n",
       "494114    10000.0      10000.0          10000.0    36     10.99       327.34   \n",
       "732309    10000.0      10000.0          10000.0    60     12.29       223.92   \n",
       "\n",
       "        grade  emp_length  home_ownership  annual_inc  ...  \\\n",
       "253650      6         2.0               4     47900.0  ...   \n",
       "584010      3         5.0               6     85000.0  ...   \n",
       "52427       7         7.0               6     60000.0  ...   \n",
       "494114      6         1.0               5     48000.0  ...   \n",
       "732309      5         5.0               5     45000.0  ...   \n",
       "\n",
       "        total_rec_late_fee  recoveries  collection_recovery_fee  \\\n",
       "253650                 0.0         0.0                      0.0   \n",
       "584010                 0.0         0.0                      0.0   \n",
       "52427                  0.0         0.0                      0.0   \n",
       "494114                 0.0         0.0                      0.0   \n",
       "732309                 0.0         0.0                      0.0   \n",
       "\n",
       "        last_pymnt_amnt  collections_12_mths_ex_med  \\\n",
       "253650           259.99                         0.0   \n",
       "584010           568.01                         0.0   \n",
       "52427            438.20                         0.0   \n",
       "494114           327.34                         0.0   \n",
       "732309           223.92                         0.0   \n",
       "\n",
       "        mths_since_last_major_derog  policy_code  acc_now_delinq  \\\n",
       "253650                    13.000000          1.0             0.0   \n",
       "584010                    59.000000          1.0             0.0   \n",
       "52427                     39.000000          1.0             0.0   \n",
       "494114                    45.000000          1.0             0.0   \n",
       "732309                    44.109181          1.0             0.0   \n",
       "\n",
       "        tot_coll_amt  tot_cur_bal  \n",
       "253650           0.0       7267.0  \n",
       "584010           0.0     313643.0  \n",
       "52427            0.0     444712.0  \n",
       "494114         112.0      27287.0  \n",
       "732309           0.0     101756.0  \n",
       "\n",
       "[5 rows x 36 columns]"
      ]
     },
     "execution_count": 63,
     "metadata": {},
     "output_type": "execute_result"
    }
   ],
   "source": [
    "train.head()"
   ]
  },
  {
   "cell_type": "code",
   "execution_count": 64,
   "metadata": {},
   "outputs": [
    {
     "name": "stdout",
     "output_type": "stream",
     "text": [
      "[ True  True  True  True  True  True False False False False False False\n",
      " False False False False False False False False  True  True  True  True\n",
      "  True  True  True  True  True  True False False False False  True  True]\n"
     ]
    },
    {
     "data": {
      "text/plain": [
       "Text(0.5, 0, 'Index of Features')"
      ]
     },
     "execution_count": 64,
     "metadata": {},
     "output_type": "execute_result"
    },
    {
     "data": {
      "image/png": "[encoded data removed]",
      "text/plain": [
       "<Figure size 1152x144 with 1 Axes>"
      ]
     },
     "metadata": {
      "needs_background": "light"
     },
     "output_type": "display_data"
    }
   ],
   "source": [
    "import matplotlib.pyplot as plt\n",
    "mask = select.get_support()\n",
    "print(mask)\n",
    "plt.matshow(mask.reshape(1,-1), cmap='gray_r')\n",
    "plt.xlabel('Index of Features')"
   ]
  },
  {
   "cell_type": "code",
   "execution_count": 65,
   "metadata": {},
   "outputs": [
    {
     "name": "stderr",
     "output_type": "stream",
     "text": [
      "C:\\Users\\Saurabh Gupta\\Anaconda3\\lib\\site-packages\\sklearn\\feature_selection\\univariate_selection.py:114: UserWarning: Features [32] are constant.\n",
      "  UserWarning)\n",
      "C:\\Users\\Saurabh Gupta\\Anaconda3\\lib\\site-packages\\sklearn\\feature_selection\\univariate_selection.py:115: RuntimeWarning: invalid value encountered in true_divide\n",
      "  f = msb / msw\n"
     ]
    },
    {
     "name": "stdout",
     "output_type": "stream",
     "text": [
      "F-score: (16.413181516820682, 'loan_amnt')\n",
      "F-score: (23.12901430907968, 'funded_amnt')\n",
      "F-score: (45.31975259795728, 'funded_amnt_inv')\n",
      "F-score: (625.2272036418016, 'term')\n",
      "F-score: (14812.306056010419, 'int_rate')\n",
      "F-score: (9.300231133384154, 'installment')\n",
      "F-score: (9339.229597699246, 'grade')\n",
      "F-score: (105.4136765183886, 'emp_length')\n",
      "F-score: (220.49116985892073, 'home_ownership')\n",
      "F-score: (782.9154560984659, 'annual_inc')\n",
      "F-score: (6.9034912247148075, 'dti')\n",
      "F-score: (60.27347117621261, 'delinq_2yrs')\n",
      "F-score: (3362.530712095092, 'inq_last_6mths')\n",
      "F-score: (1.488617030312238, 'mths_since_last_delinq')\n",
      "F-score: (306.3167076700082, 'mths_since_last_record')\n",
      "F-score: (279.1596226299355, 'open_acc')\n",
      "F-score: (250.32876354490753, 'pub_rec')\n",
      "F-score: (266.3785707727901, 'revol_bal')\n",
      "F-score: (1181.9835113566942, 'revol_util')\n",
      "F-score: (257.0788506128066, 'total_acc')\n",
      "F-score: (32450.020302320205, 'out_prncp')\n",
      "F-score: (32449.544800335883, 'out_prncp_inv')\n",
      "F-score: (931.0629294764716, 'total_pymnt')\n",
      "F-score: (982.3834693029864, 'total_pymnt_inv')\n",
      "F-score: (4969.582377032308, 'total_rec_prncp')\n",
      "F-score: (1262.3139891354192, 'total_rec_int')\n",
      "F-score: (12282.539587793462, 'total_rec_late_fee')\n",
      "F-score: (173105.15754890683, 'recoveries')\n",
      "F-score: (72929.56272535223, 'collection_recovery_fee')\n",
      "F-score: (4624.280275711025, 'last_pymnt_amnt')\n",
      "F-score: (78.40110717524166, 'collections_12_mths_ex_med')\n",
      "F-score: (19.576990490565475, 'mths_since_last_major_derog')\n",
      "F-score: (nan, 'policy_code')\n",
      "F-score: (8.017872935748445, 'acc_now_delinq')\n",
      "F-score: (41.14172910398002, 'tot_coll_amt')\n",
      "F-score: (601.1655049113756, 'tot_cur_bal')\n"
     ]
    }
   ],
   "source": [
    "from sklearn.feature_selection import SelectPercentile\n",
    "from sklearn.feature_selection import f_classif\n",
    "Selector_f = SelectPercentile(f_classif, percentile=25)\n",
    "Selector_f.fit(train,y_train)\n",
    "\n",
    "for n,s in zip(train,Selector_f.scores_):\n",
    "    print('F-score:', (s,n))"
   ]
  },
  {
   "cell_type": "markdown",
   "metadata": {},
   "source": [
    "# Logistic Regression"
   ]
  },
  {
   "cell_type": "code",
   "execution_count": 23,
   "metadata": {},
   "outputs": [],
   "source": [
    "#logistic regression\n",
    "from sklearn.linear_model import LogisticRegression"
   ]
  },
  {
   "cell_type": "code",
   "execution_count": 24,
   "metadata": {},
   "outputs": [],
   "source": [
    "features = ['loan_amnt','funded_amnt','funded_amnt_inv','term','int_rate','installment','grade','out_prncp',\n",
    "            'out_prncp_inv','total_pymnt',\n",
    " 'total_pymnt_inv','total_rec_prncp',\n",
    "'total_rec_int','total_rec_late_fee','recoveries','collection_recovery_fee',\n",
    " 'last_pymnt_amnt','tot_cur_bal']"
   ]
  },
  {
   "cell_type": "code",
   "execution_count": 25,
   "metadata": {},
   "outputs": [],
   "source": [
    "Final_train = Train_data_2[features]\n",
    "Final_test = Test_data_2[features]"
   ]
  },
  {
   "cell_type": "code",
   "execution_count": 27,
   "metadata": {},
   "outputs": [
    {
     "data": {
      "text/plain": [
       "(599178,)"
      ]
     },
     "execution_count": 27,
     "metadata": {},
     "output_type": "execute_result"
    }
   ],
   "source": [
    "y_train.shape"
   ]
  },
  {
   "cell_type": "code",
   "execution_count": 28,
   "metadata": {},
   "outputs": [
    {
     "data": {
      "text/plain": [
       "(599178, 18)"
      ]
     },
     "execution_count": 28,
     "metadata": {},
     "output_type": "execute_result"
    }
   ],
   "source": [
    "Final_train.shape"
   ]
  },
  {
   "cell_type": "code",
   "execution_count": 31,
   "metadata": {},
   "outputs": [],
   "source": [
    "X_train1,X_test1,y_train1,y_test1 = train_test_split(Final_train,y_train,random_state = 42,test_size = 0.3)"
   ]
  },
  {
   "cell_type": "code",
   "execution_count": 33,
   "metadata": {},
   "outputs": [
    {
     "name": "stderr",
     "output_type": "stream",
     "text": [
      "C:\\Users\\Saurabh Gupta\\Anaconda3\\lib\\site-packages\\sklearn\\linear_model\\logistic.py:433: FutureWarning: Default solver will be changed to 'lbfgs' in 0.22. Specify a solver to silence this warning.\n",
      "  FutureWarning)\n"
     ]
    },
    {
     "data": {
      "text/plain": [
       "LogisticRegression(C=1.0, class_weight=None, dual=False, fit_intercept=True,\n",
       "          intercept_scaling=1, max_iter=100, multi_class='warn',\n",
       "          n_jobs=None, penalty='l2', random_state=None, solver='warn',\n",
       "          tol=0.0001, verbose=0, warm_start=False)"
      ]
     },
     "execution_count": 33,
     "metadata": {},
     "output_type": "execute_result"
    }
   ],
   "source": [
    "logreg = LogisticRegression()\n",
    "logreg.fit(X_train1,y_train1)"
   ]
  },
  {
   "cell_type": "code",
   "execution_count": 34,
   "metadata": {},
   "outputs": [],
   "source": [
    "y_pred = logreg.predict(X_test1)"
   ]
  },
  {
   "cell_type": "code",
   "execution_count": 36,
   "metadata": {},
   "outputs": [
    {
     "data": {
      "text/plain": [
       "0.9977024155234376"
      ]
     },
     "execution_count": 36,
     "metadata": {},
     "output_type": "execute_result"
    }
   ],
   "source": [
    "logreg.score(X_test1,y_test1)"
   ]
  },
  {
   "cell_type": "code",
   "execution_count": 37,
   "metadata": {},
   "outputs": [],
   "source": [
    "from sklearn.metrics import confusion_matrix\n",
    "from sklearn.metrics import classification_report"
   ]
  },
  {
   "cell_type": "code",
   "execution_count": 38,
   "metadata": {},
   "outputs": [
    {
     "name": "stdout",
     "output_type": "stream",
     "text": [
      "confusion matrix is: [[169839      5]\n",
      " [   408   9502]]\n"
     ]
    }
   ],
   "source": [
    "print(\"confusion matrix is: {}\".format(confusion_matrix(y_test1,y_pred)))"
   ]
  },
  {
   "cell_type": "code",
   "execution_count": 39,
   "metadata": {},
   "outputs": [
    {
     "name": "stdout",
     "output_type": "stream",
     "text": [
      "              precision    recall  f1-score   support\n",
      "\n",
      "           0       1.00      1.00      1.00    169844\n",
      "           1       1.00      0.96      0.98      9910\n",
      "\n",
      "   micro avg       1.00      1.00      1.00    179754\n",
      "   macro avg       1.00      0.98      0.99    179754\n",
      "weighted avg       1.00      1.00      1.00    179754\n",
      "\n"
     ]
    }
   ],
   "source": [
    "print(classification_report(y_test1,y_pred))"
   ]
  },
  {
   "cell_type": "code",
   "execution_count": 40,
   "metadata": {},
   "outputs": [],
   "source": [
    "#plotting the roc curve\n",
    "from sklearn.metrics import roc_curve\n",
    "import matplotlib.pyplot as plt\n",
    "from sklearn.metrics import roc_auc_score"
   ]
  },
  {
   "cell_type": "code",
   "execution_count": 41,
   "metadata": {},
   "outputs": [
    {
     "data": {
      "text/plain": [
       "[<matplotlib.lines.Line2D at 0x29d87cf2ac8>]"
      ]
     },
     "execution_count": 41,
     "metadata": {},
     "output_type": "execute_result"
    },
    {
     "data": {
      "image/png": "[encoded data removed]",
      "text/plain": [
       "<Figure size 432x288 with 1 Axes>"
      ]
     },
     "metadata": {
      "needs_background": "light"
     },
     "output_type": "display_data"
    }
   ],
   "source": [
    "y_pred_prob = logreg.predict_proba(X_test1)[:,1]\n",
    "fpr,tpr,threshold = roc_curve(y_test1,y_pred_prob)\n",
    "plt.xlabel('Fpr')\n",
    "plt.ylabel('Tpr')\n",
    "plt.plot([0,1],[0,1],'k--')\n",
    "plt.plot(fpr,tpr,label = 'logistic regression')"
   ]
  },
  {
   "cell_type": "code",
   "execution_count": 42,
   "metadata": {},
   "outputs": [
    {
     "data": {
      "text/plain": [
       "0.987686109822723"
      ]
     },
     "execution_count": 42,
     "metadata": {},
     "output_type": "execute_result"
    }
   ],
   "source": [
    "roc_auc_score(y_test1,y_pred_prob)"
   ]
  },
  {
   "cell_type": "code",
   "execution_count": 43,
   "metadata": {},
   "outputs": [
    {
     "data": {
      "text/plain": [
       "array([0, 0, 0, 0, 0], dtype=int64)"
      ]
     },
     "execution_count": 43,
     "metadata": {},
     "output_type": "execute_result"
    }
   ],
   "source": [
    "#predicting on the final test values\n",
    "logreg.predict(Final_test)[0:5]"
   ]
  },
  {
   "cell_type": "code",
   "execution_count": 44,
   "metadata": {},
   "outputs": [
    {
     "name": "stdout",
     "output_type": "stream",
     "text": [
      "The probability of the coming 1 on the final_tes is :[5.69948607e-07 5.98333912e-04 2.56170542e-04 ... 5.01892091e-05\n",
      " 2.07613474e-25 5.99070912e-13]\n"
     ]
    }
   ],
   "source": [
    "Predict_finaltest = logreg.predict_proba(Final_test)[:,1]\n",
    "print(\"The probability of the coming 1 on the final_tes is :{}\".format(Predict_finaltest,2))"
   ]
  },
  {
   "cell_type": "code",
   "execution_count": 45,
   "metadata": {},
   "outputs": [
    {
     "data": {
      "text/plain": [
       "0.9881555378324336"
      ]
     },
     "execution_count": 45,
     "metadata": {},
     "output_type": "execute_result"
    }
   ],
   "source": [
    "roc_auc_score(y_test,Predict_finaltest)"
   ]
  },
  {
   "cell_type": "code",
   "execution_count": 46,
   "metadata": {},
   "outputs": [
    {
     "data": {
      "text/plain": [
       "[<matplotlib.lines.Line2D at 0x29d8193b6d8>]"
      ]
     },
     "execution_count": 46,
     "metadata": {},
     "output_type": "execute_result"
    },
    {
     "data": {
      "image/png": "[encoded data removed]",
      "text/plain": [
       "<Figure size 432x288 with 1 Axes>"
      ]
     },
     "metadata": {
      "needs_background": "light"
     },
     "output_type": "display_data"
    }
   ],
   "source": [
    "Predict_finaltest = logreg.predict_proba(Final_test)[:,1]\n",
    "roc_curve(y_test,Predict_finaltest)\n",
    "plt.xlabel('Fpr')\n",
    "plt.ylabel('Tpr')\n",
    "plt.plot([0,1],[0,1],'k--')\n",
    "plt.plot(fpr,tpr,label = 'logistic regression')"
   ]
  },
  {
   "cell_type": "markdown",
   "metadata": {},
   "source": [
    "# Knn Classification"
   ]
  },
  {
   "cell_type": "code",
   "execution_count": 52,
   "metadata": {},
   "outputs": [
    {
     "data": {
      "text/plain": [
       "0.9957664363519032"
      ]
     },
     "execution_count": 52,
     "metadata": {},
     "output_type": "execute_result"
    }
   ],
   "source": [
    "#knn classification\n",
    "from sklearn.neighbors import KNeighborsClassifier\n",
    "X_train1,X_test1,y_train1,y_test1 = train_test_split(Final_train,y_train,random_state = 42,test_size = 0.3)\n",
    "knn = KNeighborsClassifier(n_neighbors=5)\n",
    "knn.fit(X_train1,y_train1)\n",
    "y_pred = knn.predict(X_test1)\n",
    "knn.score(X_test1,y_test1)"
   ]
  },
  {
   "cell_type": "code",
   "execution_count": 53,
   "metadata": {},
   "outputs": [
    {
     "data": {
      "text/plain": [
       "[<matplotlib.lines.Line2D at 0x29d87dff940>]"
      ]
     },
     "execution_count": 53,
     "metadata": {},
     "output_type": "execute_result"
    },
    {
     "data": {
      "image/png": "[encoded data removed]",
      "text/plain": [
       "<Figure size 432x288 with 1 Axes>"
      ]
     },
     "metadata": {
      "needs_background": "light"
     },
     "output_type": "display_data"
    }
   ],
   "source": [
    "knn_predict = knn.predict_proba(X_test1)[:,1]\n",
    "fpr,tpr,threshold = roc_curve(y_test1,knn_predict)\n",
    "plt.xlabel('Fpr')\n",
    "plt.ylabel('Tpr')\n",
    "plt.plot([0,1],[0,1],'k--')\n",
    "plt.plot(fpr,tpr,label = 'knn')"
   ]
  },
  {
   "cell_type": "code",
   "execution_count": 54,
   "metadata": {},
   "outputs": [
    {
     "data": {
      "text/plain": [
       "array([0, 0, 0, ..., 0, 0, 0], dtype=int64)"
      ]
     },
     "execution_count": 54,
     "metadata": {},
     "output_type": "execute_result"
    }
   ],
   "source": [
    "#predicting on the final test set uning knn..\n",
    "y_pred = knn.predict(Final_test)\n",
    "y_pred"
   ]
  },
  {
   "cell_type": "code",
   "execution_count": 55,
   "metadata": {},
   "outputs": [],
   "source": [
    "pred = knn.predict_proba(Final_test)[:,1]"
   ]
  },
  {
   "cell_type": "code",
   "execution_count": 56,
   "metadata": {},
   "outputs": [
    {
     "data": {
      "text/plain": [
       "0.9781692320503372"
      ]
     },
     "execution_count": 56,
     "metadata": {},
     "output_type": "execute_result"
    }
   ],
   "source": [
    "roc_auc_score(y_test,pred)"
   ]
  }
 ],
 "metadata": {
  "kernelspec": {
   "display_name": "Python 3",
   "language": "python",
   "name": "python3"
  },
  "language_info": {
   "codemirror_mode": {
    "name": "ipython",
    "version": 3
   },
   "file_extension": ".py",
   "mimetype": "text/x-python",
   "name": "python",
   "nbconvert_exporter": "python",
   "pygments_lexer": "ipython3",
   "version": "3.7.3"
  }
 },
 "nbformat": 4,
 "nbformat_minor": 2
}
